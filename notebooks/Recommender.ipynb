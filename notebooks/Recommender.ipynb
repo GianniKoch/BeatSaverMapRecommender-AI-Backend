{
 "cells": [
  {
   "cell_type": "markdown",
   "source": [
    "I used this notebook to help write a recommender function step by step. This function can be found in the Recommender class in Recommender.py. Mapper added to tags is not implemented here."
   ],
   "metadata": {
    "collapsed": false
   }
  },
  {
   "cell_type": "code",
   "execution_count": 98,
   "metadata": {
    "collapsed": true
   },
   "outputs": [],
   "source": [
    "import numpy as np\n",
    "from numpy.linalg import norm\n",
    "import pandas as pd\n",
    "\n",
    "compare_song = '295cc'\n",
    "difficulty = 4"
   ]
  },
  {
   "cell_type": "code",
   "execution_count": 99,
   "outputs": [],
   "source": [
    "songs = pd.read_csv('datasets/beatsaversongs.csv', delimiter=',')\n",
    "songs.BeatMapId = songs.BeatMapId.astype('string')\n",
    "songs.UploaderName = songs.UploaderName.astype('category')\n",
    "songs.IsRanked = songs.IsRanked.astype(int)\n",
    "songs.IsCurated = songs.IsCurated.astype(int)\n",
    "songs.HasChroma = songs.HasChroma.astype(int)\n",
    "songs.HasCinema = songs.HasCinema.astype(int)\n",
    "songs.HasMappingExtensions = songs.HasMappingExtensions.astype(int)\n",
    "songs.HasNoodleExtensions = songs.HasNoodleExtensions.astype(int)\n",
    "\n",
    "def add_uploader_to_tags(tags, uploader):\n",
    "    if len(tags) > 0 and tags[0] != 'nan':\n",
    "        tags.append(uploader)\n",
    "    return tags\n",
    "\n",
    "songs.Tags = songs.apply(lambda r: add_uploader_to_tags(str(r.Tags).split(';'), r.UploaderName), axis=1)\n",
    "songs.Tags = songs.Tags.apply(lambda r: ';'.join(r))\n",
    "songs.Tags = songs.Tags.astype('string')"
   ],
   "metadata": {
    "collapsed": false
   }
  },
  {
   "cell_type": "code",
   "execution_count": 100,
   "outputs": [
    {
     "name": "stdout",
     "output_type": "stream",
     "text": [
      "<class 'pandas.core.frame.DataFrame'>\n",
      "RangeIndex: 115783 entries, 0 to 115782\n",
      "Data columns (total 25 columns):\n",
      " #   Column                Non-Null Count   Dtype   \n",
      "---  ------                --------------   -----   \n",
      " 0   BeatMapId             115783 non-null  string  \n",
      " 1   UploaderName          115783 non-null  category\n",
      " 2   Duration              115783 non-null  int64   \n",
      " 3   Bpm                   115783 non-null  float64 \n",
      " 4   IsRanked              115783 non-null  int32   \n",
      " 5   IsCurated             115783 non-null  int32   \n",
      " 6   Tags                  115783 non-null  string  \n",
      " 7   CommunityRating       115783 non-null  float64 \n",
      " 8   Bombs                 115783 non-null  int64   \n",
      " 9   Characteristic        115783 non-null  int64   \n",
      " 10  HasChroma             115783 non-null  int32   \n",
      " 11  HasCinema             115783 non-null  int32   \n",
      " 12  Difficulty            115783 non-null  int64   \n",
      " 13  Events                115783 non-null  int64   \n",
      " 14  HasMappingExtensions  115783 non-null  int32   \n",
      " 15  HasNoodleExtensions   115783 non-null  int32   \n",
      " 16  Njs                   115783 non-null  float64 \n",
      " 17  Notes                 115783 non-null  int64   \n",
      " 18  Nps                   115783 non-null  float64 \n",
      " 19  Obstacles             115783 non-null  int64   \n",
      " 20  Offset                115783 non-null  float64 \n",
      " 21  Stars                 115783 non-null  float64 \n",
      " 22  Errors                115783 non-null  int64   \n",
      " 23  Resets                115783 non-null  int64   \n",
      " 24  Warns                 115783 non-null  int64   \n",
      "dtypes: category(1), float64(6), int32(6), int64(10), string(2)\n",
      "memory usage: 19.4 MB\n"
     ]
    }
   ],
   "source": [
    "songs.info()"
   ],
   "metadata": {
    "collapsed": false
   }
  },
  {
   "cell_type": "code",
   "execution_count": 101,
   "outputs": [
    {
     "data": {
      "text/plain": "nan                               68578\nanime;j-pop;Joetastic               172\nbalanced;anime;j-pop;Joetastic      120\nk-pop;simplymarvellous              103\nbalanced;k-pop;eurnkung              92\n                                  ...  \ndance;clownglitz                      1\nalternative;indie;darkrailord3        1\npop;comedy-meme;elijoria              1\nvideo-game-soundtrack;infotron        1\nanime;dance;datkami                   1\nName: Tags, Length: 19419, dtype: Int64"
     },
     "execution_count": 101,
     "metadata": {},
     "output_type": "execute_result"
    }
   ],
   "source": [
    "songs['Tags'].explode().value_counts()"
   ],
   "metadata": {
    "collapsed": false
   }
  },
  {
   "cell_type": "markdown",
   "source": [
    "Dealing with outliers. Not deleting but replacing them with an \"A lot\" equivalent to keep the items relevant as someone might be interested in these outliers."
   ],
   "metadata": {
    "collapsed": false
   }
  },
  {
   "cell_type": "code",
   "execution_count": 102,
   "outputs": [
    {
     "data": {
      "text/plain": "       BeatMapId UploaderName  Duration    Bpm  IsRanked  IsCurated  \\\n0          2d675    Joetastic        91  140.0         0          0   \n1          2d675    Joetastic        91  140.0         0          0   \n2          2d675    Joetastic        91  140.0         0          0   \n3          2d674     damedame       234  144.0         0          0   \n4          2d673      Gabriel       180  130.0         0          0   \n...          ...          ...       ...    ...       ...        ...   \n115778         4  jugglernaut       117  200.0         0          0   \n115779         4  jugglernaut       117  200.0         0          0   \n115780         4  jugglernaut       117  200.0         0          0   \n115781         2  jugglernaut        91  179.0         0          0   \n115782         1      datkami       144  160.0         1          0   \n\n                                          Tags  CommunityRating  Bombs  \\\n0               balanced;anime;j-pop;Joetastic           0.5000      0   \n1               balanced;anime;j-pop;Joetastic           0.5000      0   \n2               balanced;anime;j-pop;Joetastic           0.5000      0   \n3       accuracy;balanced;anime;j-pop;damedame           0.5942      0   \n4             tech;balanced;electronic;Gabriel           0.6408     47   \n...                                        ...              ...    ...   \n115778                  electronic;jugglernaut           0.2801      0   \n115779                  electronic;jugglernaut           0.2801      0   \n115780                  electronic;jugglernaut           0.2801      0   \n115781                       anime;jugglernaut           0.8163      0   \n115782                     anime;dance;datkami           0.7830     28   \n\n        Characteristic  ...  HasNoodleExtensions   Njs  Notes    Nps  \\\n0                    0  ...                    0  12.0    269  3.062   \n1                    0  ...                    0  15.0    423  4.815   \n2                    0  ...                    0  18.0    489  5.566   \n3                    0  ...                    0  18.0   1046  4.768   \n4                    0  ...                    0  16.0    856  5.040   \n...                ...  ...                  ...   ...    ...    ...   \n115778               0  ...                    0  10.0    233  2.287   \n115779               0  ...                    0  10.0    365  3.479   \n115780               0  ...                    0  10.0    490  4.670   \n115781               0  ...                    0  10.0    336  3.962   \n115782               0  ...                    0  10.0    337  2.422   \n\n        Obstacles  Offset  Stars  Errors  Resets  Warns  \n0              65   0.000   0.00       0       0      0  \n1              65  -0.250   0.00       0       0      0  \n2              65  -0.600   0.00       0       0      0  \n3              16  -0.667   0.00       0       0      0  \n4             145  -0.580   0.00       0       3      0  \n...           ...     ...    ...     ...     ...    ...  \n115778          0   0.000   0.00       0       0      0  \n115779          0   0.000   0.00       0       0      0  \n115780          0   0.000   0.00       0       0      0  \n115781          0   0.000   0.00      20       0     20  \n115782         11   0.000   3.12      20       1     20  \n\n[115783 rows x 25 columns]",
      "text/html": "<div>\n<style scoped>\n    .dataframe tbody tr th:only-of-type {\n        vertical-align: middle;\n    }\n\n    .dataframe tbody tr th {\n        vertical-align: top;\n    }\n\n    .dataframe thead th {\n        text-align: right;\n    }\n</style>\n<table border=\"1\" class=\"dataframe\">\n  <thead>\n    <tr style=\"text-align: right;\">\n      <th></th>\n      <th>BeatMapId</th>\n      <th>UploaderName</th>\n      <th>Duration</th>\n      <th>Bpm</th>\n      <th>IsRanked</th>\n      <th>IsCurated</th>\n      <th>Tags</th>\n      <th>CommunityRating</th>\n      <th>Bombs</th>\n      <th>Characteristic</th>\n      <th>...</th>\n      <th>HasNoodleExtensions</th>\n      <th>Njs</th>\n      <th>Notes</th>\n      <th>Nps</th>\n      <th>Obstacles</th>\n      <th>Offset</th>\n      <th>Stars</th>\n      <th>Errors</th>\n      <th>Resets</th>\n      <th>Warns</th>\n    </tr>\n  </thead>\n  <tbody>\n    <tr>\n      <th>0</th>\n      <td>2d675</td>\n      <td>Joetastic</td>\n      <td>91</td>\n      <td>140.0</td>\n      <td>0</td>\n      <td>0</td>\n      <td>balanced;anime;j-pop;Joetastic</td>\n      <td>0.5000</td>\n      <td>0</td>\n      <td>0</td>\n      <td>...</td>\n      <td>0</td>\n      <td>12.0</td>\n      <td>269</td>\n      <td>3.062</td>\n      <td>65</td>\n      <td>0.000</td>\n      <td>0.00</td>\n      <td>0</td>\n      <td>0</td>\n      <td>0</td>\n    </tr>\n    <tr>\n      <th>1</th>\n      <td>2d675</td>\n      <td>Joetastic</td>\n      <td>91</td>\n      <td>140.0</td>\n      <td>0</td>\n      <td>0</td>\n      <td>balanced;anime;j-pop;Joetastic</td>\n      <td>0.5000</td>\n      <td>0</td>\n      <td>0</td>\n      <td>...</td>\n      <td>0</td>\n      <td>15.0</td>\n      <td>423</td>\n      <td>4.815</td>\n      <td>65</td>\n      <td>-0.250</td>\n      <td>0.00</td>\n      <td>0</td>\n      <td>0</td>\n      <td>0</td>\n    </tr>\n    <tr>\n      <th>2</th>\n      <td>2d675</td>\n      <td>Joetastic</td>\n      <td>91</td>\n      <td>140.0</td>\n      <td>0</td>\n      <td>0</td>\n      <td>balanced;anime;j-pop;Joetastic</td>\n      <td>0.5000</td>\n      <td>0</td>\n      <td>0</td>\n      <td>...</td>\n      <td>0</td>\n      <td>18.0</td>\n      <td>489</td>\n      <td>5.566</td>\n      <td>65</td>\n      <td>-0.600</td>\n      <td>0.00</td>\n      <td>0</td>\n      <td>0</td>\n      <td>0</td>\n    </tr>\n    <tr>\n      <th>3</th>\n      <td>2d674</td>\n      <td>damedame</td>\n      <td>234</td>\n      <td>144.0</td>\n      <td>0</td>\n      <td>0</td>\n      <td>accuracy;balanced;anime;j-pop;damedame</td>\n      <td>0.5942</td>\n      <td>0</td>\n      <td>0</td>\n      <td>...</td>\n      <td>0</td>\n      <td>18.0</td>\n      <td>1046</td>\n      <td>4.768</td>\n      <td>16</td>\n      <td>-0.667</td>\n      <td>0.00</td>\n      <td>0</td>\n      <td>0</td>\n      <td>0</td>\n    </tr>\n    <tr>\n      <th>4</th>\n      <td>2d673</td>\n      <td>Gabriel</td>\n      <td>180</td>\n      <td>130.0</td>\n      <td>0</td>\n      <td>0</td>\n      <td>tech;balanced;electronic;Gabriel</td>\n      <td>0.6408</td>\n      <td>47</td>\n      <td>0</td>\n      <td>...</td>\n      <td>0</td>\n      <td>16.0</td>\n      <td>856</td>\n      <td>5.040</td>\n      <td>145</td>\n      <td>-0.580</td>\n      <td>0.00</td>\n      <td>0</td>\n      <td>3</td>\n      <td>0</td>\n    </tr>\n    <tr>\n      <th>...</th>\n      <td>...</td>\n      <td>...</td>\n      <td>...</td>\n      <td>...</td>\n      <td>...</td>\n      <td>...</td>\n      <td>...</td>\n      <td>...</td>\n      <td>...</td>\n      <td>...</td>\n      <td>...</td>\n      <td>...</td>\n      <td>...</td>\n      <td>...</td>\n      <td>...</td>\n      <td>...</td>\n      <td>...</td>\n      <td>...</td>\n      <td>...</td>\n      <td>...</td>\n      <td>...</td>\n    </tr>\n    <tr>\n      <th>115778</th>\n      <td>4</td>\n      <td>jugglernaut</td>\n      <td>117</td>\n      <td>200.0</td>\n      <td>0</td>\n      <td>0</td>\n      <td>electronic;jugglernaut</td>\n      <td>0.2801</td>\n      <td>0</td>\n      <td>0</td>\n      <td>...</td>\n      <td>0</td>\n      <td>10.0</td>\n      <td>233</td>\n      <td>2.287</td>\n      <td>0</td>\n      <td>0.000</td>\n      <td>0.00</td>\n      <td>0</td>\n      <td>0</td>\n      <td>0</td>\n    </tr>\n    <tr>\n      <th>115779</th>\n      <td>4</td>\n      <td>jugglernaut</td>\n      <td>117</td>\n      <td>200.0</td>\n      <td>0</td>\n      <td>0</td>\n      <td>electronic;jugglernaut</td>\n      <td>0.2801</td>\n      <td>0</td>\n      <td>0</td>\n      <td>...</td>\n      <td>0</td>\n      <td>10.0</td>\n      <td>365</td>\n      <td>3.479</td>\n      <td>0</td>\n      <td>0.000</td>\n      <td>0.00</td>\n      <td>0</td>\n      <td>0</td>\n      <td>0</td>\n    </tr>\n    <tr>\n      <th>115780</th>\n      <td>4</td>\n      <td>jugglernaut</td>\n      <td>117</td>\n      <td>200.0</td>\n      <td>0</td>\n      <td>0</td>\n      <td>electronic;jugglernaut</td>\n      <td>0.2801</td>\n      <td>0</td>\n      <td>0</td>\n      <td>...</td>\n      <td>0</td>\n      <td>10.0</td>\n      <td>490</td>\n      <td>4.670</td>\n      <td>0</td>\n      <td>0.000</td>\n      <td>0.00</td>\n      <td>0</td>\n      <td>0</td>\n      <td>0</td>\n    </tr>\n    <tr>\n      <th>115781</th>\n      <td>2</td>\n      <td>jugglernaut</td>\n      <td>91</td>\n      <td>179.0</td>\n      <td>0</td>\n      <td>0</td>\n      <td>anime;jugglernaut</td>\n      <td>0.8163</td>\n      <td>0</td>\n      <td>0</td>\n      <td>...</td>\n      <td>0</td>\n      <td>10.0</td>\n      <td>336</td>\n      <td>3.962</td>\n      <td>0</td>\n      <td>0.000</td>\n      <td>0.00</td>\n      <td>20</td>\n      <td>0</td>\n      <td>20</td>\n    </tr>\n    <tr>\n      <th>115782</th>\n      <td>1</td>\n      <td>datkami</td>\n      <td>144</td>\n      <td>160.0</td>\n      <td>1</td>\n      <td>0</td>\n      <td>anime;dance;datkami</td>\n      <td>0.7830</td>\n      <td>28</td>\n      <td>0</td>\n      <td>...</td>\n      <td>0</td>\n      <td>10.0</td>\n      <td>337</td>\n      <td>2.422</td>\n      <td>11</td>\n      <td>0.000</td>\n      <td>3.12</td>\n      <td>20</td>\n      <td>1</td>\n      <td>20</td>\n    </tr>\n  </tbody>\n</table>\n<p>115783 rows × 25 columns</p>\n</div>"
     },
     "execution_count": 102,
     "metadata": {},
     "output_type": "execute_result"
    }
   ],
   "source": [
    "songs.loc[songs.Njs > 40, \"Njs\"] = 40\n",
    "songs.loc[songs.Njs < -10, \"Njs\"] = -10\n",
    "songs.loc[songs.Offset > 20, \"Offset\"] = 20\n",
    "songs.loc[songs.Offset < -20, \"Offset\"] = -20\n",
    "songs.loc[songs.Notes > 10000, 'Notes'] = 10000\n",
    "songs.loc[songs.Events > 20000, 'Events'] = 20000\n",
    "songs.loc[songs.Bombs > 5000, 'Bombs'] = 5000\n",
    "songs.loc[songs.Obstacles > 10000, 'Obstacles'] = 10000\n",
    "songs.loc[songs.Errors > 20, 'Errors'] = 20\n",
    "songs.loc[songs.Resets > 20, 'Resets'] = 20\n",
    "songs.loc[songs.Warns > 20, 'Warns'] = 20\n",
    "songs.loc[songs.Bpm > 1000, 'Bpm'] = 1000\n",
    "songs.loc[songs.Duration > 1800, 'Duration'] = 1800\n",
    "songs"
   ],
   "metadata": {
    "collapsed": false
   }
  },
  {
   "cell_type": "code",
   "execution_count": 103,
   "outputs": [],
   "source": [
    "\n",
    "compare_tags = songs.loc[songs.BeatMapId == compare_song].loc[songs.Difficulty == difficulty].Tags.unique()[0].split(\n",
    "    ';')\n",
    "song_sims = songs\n",
    "non_meta_columns = ['BeatMapId', 'UploaderName', 'Tags', 'TagSim']"
   ],
   "metadata": {
    "collapsed": false
   }
  },
  {
   "cell_type": "code",
   "execution_count": 104,
   "outputs": [],
   "source": [
    "def jaccard_similarity(a, b) -> float:\n",
    "    a = set(a)\n",
    "    b = set(b)\n",
    "    j = float(len(a.intersection(b))) / len(a.union(b))\n",
    "    return j"
   ],
   "metadata": {
    "collapsed": false
   }
  },
  {
   "cell_type": "code",
   "execution_count": 105,
   "outputs": [],
   "source": [
    "tag_sims = [jaccard_similarity(compare_tags, tags.split(';')) for tags in songs.Tags]\n",
    "song_sims['TagSim'] = tag_sims\n",
    "vals = list(song_sims.TagSim.value_counts().index)\n",
    "vals.sort(reverse=True)"
   ],
   "metadata": {
    "collapsed": false
   }
  },
  {
   "cell_type": "code",
   "execution_count": 106,
   "outputs": [
    {
     "data": {
      "text/plain": "       Duration  Bpm  IsRanked  IsCurated  CommunityRating     Bombs  \\\n9818   0.000000  1.0       1.0        1.0          0.00000  0.193476   \n9819   0.000000  1.0       1.0        1.0          0.00000  0.290214   \n9820   0.000000  1.0       1.0        1.0          0.00000  0.672666   \n9821   0.000000  1.0       1.0        1.0          0.00000  0.865017   \n9822   0.000000  1.0       1.0        1.0          0.00000  1.000000   \n18881  0.314516  0.0       0.0        0.0          0.80084  0.000000   \n23103  1.000000  1.0       0.0        1.0          1.00000  0.000000   \n23104  1.000000  1.0       0.0        1.0          1.00000  0.013498   \n23105  1.000000  1.0       0.0        1.0          1.00000  0.021372   \n23106  1.000000  1.0       0.0        1.0          1.00000  0.113611   \n23107  1.000000  1.0       0.0        1.0          1.00000  0.230596   \n\n       Characteristic  HasChroma  HasCinema  Difficulty  ...  \\\n9818              0.0        1.0        0.0        0.00  ...   \n9819              0.0        1.0        0.0        1.25  ...   \n9820              0.0        1.0        0.0        2.50  ...   \n9821              0.0        1.0        0.0        3.75  ...   \n9822              0.0        1.0        0.0        5.00  ...   \n18881             0.0        0.0        0.0        5.00  ...   \n23103             0.0        0.0        0.0        0.00  ...   \n23104             0.0        0.0        0.0        1.25  ...   \n23105             0.0        0.0        0.0        2.50  ...   \n23106             0.0        0.0        0.0        3.75  ...   \n23107             0.0        0.0        0.0        5.00  ...   \n\n       HasNoodleExtensions       Njs     Notes       Nps  Obstacles   Offset  \\\n9818                   0.0  0.000000  0.000000  0.000000   0.682731  0.15625   \n9819                   0.0  0.285714  0.065800  0.174488   0.682731  1.00000   \n9820                   0.0  0.571429  0.094874  0.251495   0.441767  0.68750   \n9821                   0.0  0.714286  0.221882  0.588150   0.273092  0.50000   \n9822                   0.0  0.857143  0.377200  1.000000   0.220884  0.31250   \n18881                  0.0  0.428571  0.418516  0.617684   1.000000  0.43750   \n23103                  0.0  0.000000  0.312165  0.059250   0.000000  0.00000   \n23104                  0.0  0.285714  0.475899  0.240623   0.160643  0.93750   \n23105                  0.0  0.714286  0.749044  0.543396   0.975904  0.56250   \n23106                  0.0  0.857143  0.882938  0.691792   0.176707  0.40625   \n23107                  0.0  1.000000  1.000000  0.821526   0.341365  0.31250   \n\n          Stars  Errors  Resets  Warns  \n9818   0.184438     0.0    0.60   0.00  \n9819   0.231508     0.0    0.35   0.00  \n9820   0.311239     0.0    0.60   0.00  \n9821   0.666667     0.1    0.70   0.60  \n9822   1.000000     1.0    0.90   1.00  \n18881  0.000000     0.0    0.00   1.00  \n23103  0.000000     0.0    0.00   0.00  \n23104  0.000000     0.0    0.15   0.00  \n23105  0.000000     0.0    0.15   0.65  \n23106  0.000000     0.0    1.00   1.00  \n23107  0.000000     0.0    1.00   1.00  \n\n[11 rows x 22 columns]",
      "text/html": "<div>\n<style scoped>\n    .dataframe tbody tr th:only-of-type {\n        vertical-align: middle;\n    }\n\n    .dataframe tbody tr th {\n        vertical-align: top;\n    }\n\n    .dataframe thead th {\n        text-align: right;\n    }\n</style>\n<table border=\"1\" class=\"dataframe\">\n  <thead>\n    <tr style=\"text-align: right;\">\n      <th></th>\n      <th>Duration</th>\n      <th>Bpm</th>\n      <th>IsRanked</th>\n      <th>IsCurated</th>\n      <th>CommunityRating</th>\n      <th>Bombs</th>\n      <th>Characteristic</th>\n      <th>HasChroma</th>\n      <th>HasCinema</th>\n      <th>Difficulty</th>\n      <th>...</th>\n      <th>HasNoodleExtensions</th>\n      <th>Njs</th>\n      <th>Notes</th>\n      <th>Nps</th>\n      <th>Obstacles</th>\n      <th>Offset</th>\n      <th>Stars</th>\n      <th>Errors</th>\n      <th>Resets</th>\n      <th>Warns</th>\n    </tr>\n  </thead>\n  <tbody>\n    <tr>\n      <th>9818</th>\n      <td>0.000000</td>\n      <td>1.0</td>\n      <td>1.0</td>\n      <td>1.0</td>\n      <td>0.00000</td>\n      <td>0.193476</td>\n      <td>0.0</td>\n      <td>1.0</td>\n      <td>0.0</td>\n      <td>0.00</td>\n      <td>...</td>\n      <td>0.0</td>\n      <td>0.000000</td>\n      <td>0.000000</td>\n      <td>0.000000</td>\n      <td>0.682731</td>\n      <td>0.15625</td>\n      <td>0.184438</td>\n      <td>0.0</td>\n      <td>0.60</td>\n      <td>0.00</td>\n    </tr>\n    <tr>\n      <th>9819</th>\n      <td>0.000000</td>\n      <td>1.0</td>\n      <td>1.0</td>\n      <td>1.0</td>\n      <td>0.00000</td>\n      <td>0.290214</td>\n      <td>0.0</td>\n      <td>1.0</td>\n      <td>0.0</td>\n      <td>1.25</td>\n      <td>...</td>\n      <td>0.0</td>\n      <td>0.285714</td>\n      <td>0.065800</td>\n      <td>0.174488</td>\n      <td>0.682731</td>\n      <td>1.00000</td>\n      <td>0.231508</td>\n      <td>0.0</td>\n      <td>0.35</td>\n      <td>0.00</td>\n    </tr>\n    <tr>\n      <th>9820</th>\n      <td>0.000000</td>\n      <td>1.0</td>\n      <td>1.0</td>\n      <td>1.0</td>\n      <td>0.00000</td>\n      <td>0.672666</td>\n      <td>0.0</td>\n      <td>1.0</td>\n      <td>0.0</td>\n      <td>2.50</td>\n      <td>...</td>\n      <td>0.0</td>\n      <td>0.571429</td>\n      <td>0.094874</td>\n      <td>0.251495</td>\n      <td>0.441767</td>\n      <td>0.68750</td>\n      <td>0.311239</td>\n      <td>0.0</td>\n      <td>0.60</td>\n      <td>0.00</td>\n    </tr>\n    <tr>\n      <th>9821</th>\n      <td>0.000000</td>\n      <td>1.0</td>\n      <td>1.0</td>\n      <td>1.0</td>\n      <td>0.00000</td>\n      <td>0.865017</td>\n      <td>0.0</td>\n      <td>1.0</td>\n      <td>0.0</td>\n      <td>3.75</td>\n      <td>...</td>\n      <td>0.0</td>\n      <td>0.714286</td>\n      <td>0.221882</td>\n      <td>0.588150</td>\n      <td>0.273092</td>\n      <td>0.50000</td>\n      <td>0.666667</td>\n      <td>0.1</td>\n      <td>0.70</td>\n      <td>0.60</td>\n    </tr>\n    <tr>\n      <th>9822</th>\n      <td>0.000000</td>\n      <td>1.0</td>\n      <td>1.0</td>\n      <td>1.0</td>\n      <td>0.00000</td>\n      <td>1.000000</td>\n      <td>0.0</td>\n      <td>1.0</td>\n      <td>0.0</td>\n      <td>5.00</td>\n      <td>...</td>\n      <td>0.0</td>\n      <td>0.857143</td>\n      <td>0.377200</td>\n      <td>1.000000</td>\n      <td>0.220884</td>\n      <td>0.31250</td>\n      <td>1.000000</td>\n      <td>1.0</td>\n      <td>0.90</td>\n      <td>1.00</td>\n    </tr>\n    <tr>\n      <th>18881</th>\n      <td>0.314516</td>\n      <td>0.0</td>\n      <td>0.0</td>\n      <td>0.0</td>\n      <td>0.80084</td>\n      <td>0.000000</td>\n      <td>0.0</td>\n      <td>0.0</td>\n      <td>0.0</td>\n      <td>5.00</td>\n      <td>...</td>\n      <td>0.0</td>\n      <td>0.428571</td>\n      <td>0.418516</td>\n      <td>0.617684</td>\n      <td>1.000000</td>\n      <td>0.43750</td>\n      <td>0.000000</td>\n      <td>0.0</td>\n      <td>0.00</td>\n      <td>1.00</td>\n    </tr>\n    <tr>\n      <th>23103</th>\n      <td>1.000000</td>\n      <td>1.0</td>\n      <td>0.0</td>\n      <td>1.0</td>\n      <td>1.00000</td>\n      <td>0.000000</td>\n      <td>0.0</td>\n      <td>0.0</td>\n      <td>0.0</td>\n      <td>0.00</td>\n      <td>...</td>\n      <td>0.0</td>\n      <td>0.000000</td>\n      <td>0.312165</td>\n      <td>0.059250</td>\n      <td>0.000000</td>\n      <td>0.00000</td>\n      <td>0.000000</td>\n      <td>0.0</td>\n      <td>0.00</td>\n      <td>0.00</td>\n    </tr>\n    <tr>\n      <th>23104</th>\n      <td>1.000000</td>\n      <td>1.0</td>\n      <td>0.0</td>\n      <td>1.0</td>\n      <td>1.00000</td>\n      <td>0.013498</td>\n      <td>0.0</td>\n      <td>0.0</td>\n      <td>0.0</td>\n      <td>1.25</td>\n      <td>...</td>\n      <td>0.0</td>\n      <td>0.285714</td>\n      <td>0.475899</td>\n      <td>0.240623</td>\n      <td>0.160643</td>\n      <td>0.93750</td>\n      <td>0.000000</td>\n      <td>0.0</td>\n      <td>0.15</td>\n      <td>0.00</td>\n    </tr>\n    <tr>\n      <th>23105</th>\n      <td>1.000000</td>\n      <td>1.0</td>\n      <td>0.0</td>\n      <td>1.0</td>\n      <td>1.00000</td>\n      <td>0.021372</td>\n      <td>0.0</td>\n      <td>0.0</td>\n      <td>0.0</td>\n      <td>2.50</td>\n      <td>...</td>\n      <td>0.0</td>\n      <td>0.714286</td>\n      <td>0.749044</td>\n      <td>0.543396</td>\n      <td>0.975904</td>\n      <td>0.56250</td>\n      <td>0.000000</td>\n      <td>0.0</td>\n      <td>0.15</td>\n      <td>0.65</td>\n    </tr>\n    <tr>\n      <th>23106</th>\n      <td>1.000000</td>\n      <td>1.0</td>\n      <td>0.0</td>\n      <td>1.0</td>\n      <td>1.00000</td>\n      <td>0.113611</td>\n      <td>0.0</td>\n      <td>0.0</td>\n      <td>0.0</td>\n      <td>3.75</td>\n      <td>...</td>\n      <td>0.0</td>\n      <td>0.857143</td>\n      <td>0.882938</td>\n      <td>0.691792</td>\n      <td>0.176707</td>\n      <td>0.40625</td>\n      <td>0.000000</td>\n      <td>0.0</td>\n      <td>1.00</td>\n      <td>1.00</td>\n    </tr>\n    <tr>\n      <th>23107</th>\n      <td>1.000000</td>\n      <td>1.0</td>\n      <td>0.0</td>\n      <td>1.0</td>\n      <td>1.00000</td>\n      <td>0.230596</td>\n      <td>0.0</td>\n      <td>0.0</td>\n      <td>0.0</td>\n      <td>5.00</td>\n      <td>...</td>\n      <td>0.0</td>\n      <td>1.000000</td>\n      <td>1.000000</td>\n      <td>0.821526</td>\n      <td>0.341365</td>\n      <td>0.31250</td>\n      <td>0.000000</td>\n      <td>0.0</td>\n      <td>1.00</td>\n      <td>1.00</td>\n    </tr>\n  </tbody>\n</table>\n<p>11 rows × 22 columns</p>\n</div>"
     },
     "execution_count": 106,
     "metadata": {},
     "output_type": "execute_result"
    }
   ],
   "source": [
    "compare_meta = song_sims.loc[song_sims.BeatMapId == compare_song].loc[song_sims.Difficulty == difficulty].drop(\n",
    "    columns=non_meta_columns)\n",
    "\n",
    "song_metadata = song_sims.loc[song_sims.TagSim.isin(vals[:2])].drop(columns=non_meta_columns)\n",
    "song_metadata = (song_metadata - song_metadata.min()) / (song_metadata.max() - song_metadata.min())\n",
    "song_metadata = song_metadata.fillna(0)\n",
    "song_metadata.Difficulty = song_metadata.Difficulty * 5\n",
    "song_metadata"
   ],
   "metadata": {
    "collapsed": false
   }
  },
  {
   "cell_type": "code",
   "execution_count": 107,
   "outputs": [],
   "source": [
    "def cosine_sim(a, b):\n",
    "    a = a.values[0]\n",
    "    return np.dot(a, b) / (norm(a) * norm(b))\n",
    "\n",
    "\n",
    "metadata_sims = [cosine_sim(compare_meta, row) for row in song_metadata.values]"
   ],
   "metadata": {
    "collapsed": false
   }
  },
  {
   "cell_type": "code",
   "execution_count": 108,
   "outputs": [
    {
     "data": {
      "text/plain": "       Duration  Bpm  IsRanked  IsCurated  CommunityRating     Bombs  \\\n18881  0.314516  0.0       0.0        0.0          0.80084  0.000000   \n23107  1.000000  1.0       0.0        1.0          1.00000  0.230596   \n23106  1.000000  1.0       0.0        1.0          1.00000  0.113611   \n23105  1.000000  1.0       0.0        1.0          1.00000  0.021372   \n23104  1.000000  1.0       0.0        1.0          1.00000  0.013498   \n23103  1.000000  1.0       0.0        1.0          1.00000  0.000000   \n9822   0.000000  1.0       1.0        1.0          0.00000  1.000000   \n9821   0.000000  1.0       1.0        1.0          0.00000  0.865017   \n9820   0.000000  1.0       1.0        1.0          0.00000  0.672666   \n9819   0.000000  1.0       1.0        1.0          0.00000  0.290214   \n9818   0.000000  1.0       1.0        1.0          0.00000  0.193476   \n\n       Characteristic  HasChroma  HasCinema  Difficulty  ...       Njs  \\\n18881             0.0        0.0        0.0        5.00  ...  0.428571   \n23107             0.0        0.0        0.0        5.00  ...  1.000000   \n23106             0.0        0.0        0.0        3.75  ...  0.857143   \n23105             0.0        0.0        0.0        2.50  ...  0.714286   \n23104             0.0        0.0        0.0        1.25  ...  0.285714   \n23103             0.0        0.0        0.0        0.00  ...  0.000000   \n9822              0.0        1.0        0.0        5.00  ...  0.857143   \n9821              0.0        1.0        0.0        3.75  ...  0.714286   \n9820              0.0        1.0        0.0        2.50  ...  0.571429   \n9819              0.0        1.0        0.0        1.25  ...  0.285714   \n9818              0.0        1.0        0.0        0.00  ...  0.000000   \n\n          Notes       Nps  Obstacles   Offset     Stars  Errors  Resets  \\\n18881  0.418516  0.617684   1.000000  0.43750  0.000000     0.0    0.00   \n23107  1.000000  0.821526   0.341365  0.31250  0.000000     0.0    1.00   \n23106  0.882938  0.691792   0.176707  0.40625  0.000000     0.0    1.00   \n23105  0.749044  0.543396   0.975904  0.56250  0.000000     0.0    0.15   \n23104  0.475899  0.240623   0.160643  0.93750  0.000000     0.0    0.15   \n23103  0.312165  0.059250   0.000000  0.00000  0.000000     0.0    0.00   \n9822   0.377200  1.000000   0.220884  0.31250  1.000000     1.0    0.90   \n9821   0.221882  0.588150   0.273092  0.50000  0.666667     0.1    0.70   \n9820   0.094874  0.251495   0.441767  0.68750  0.311239     0.0    0.60   \n9819   0.065800  0.174488   0.682731  1.00000  0.231508     0.0    0.35   \n9818   0.000000  0.000000   0.682731  0.15625  0.184438     0.0    0.60   \n\n       Warns   MetaSim  \n18881   1.00  0.004155  \n23107   1.00  0.050855  \n23106   1.00  0.060568  \n23105   0.65  0.075923  \n23104   0.00  0.100329  \n23103   0.00  0.125587  \n9822    1.00  0.176593  \n9821    0.60  0.223817  \n9820    0.00  0.287004  \n9819    0.00  0.353744  \n9818    0.00  0.418534  \n\n[11 rows x 23 columns]",
      "text/html": "<div>\n<style scoped>\n    .dataframe tbody tr th:only-of-type {\n        vertical-align: middle;\n    }\n\n    .dataframe tbody tr th {\n        vertical-align: top;\n    }\n\n    .dataframe thead th {\n        text-align: right;\n    }\n</style>\n<table border=\"1\" class=\"dataframe\">\n  <thead>\n    <tr style=\"text-align: right;\">\n      <th></th>\n      <th>Duration</th>\n      <th>Bpm</th>\n      <th>IsRanked</th>\n      <th>IsCurated</th>\n      <th>CommunityRating</th>\n      <th>Bombs</th>\n      <th>Characteristic</th>\n      <th>HasChroma</th>\n      <th>HasCinema</th>\n      <th>Difficulty</th>\n      <th>...</th>\n      <th>Njs</th>\n      <th>Notes</th>\n      <th>Nps</th>\n      <th>Obstacles</th>\n      <th>Offset</th>\n      <th>Stars</th>\n      <th>Errors</th>\n      <th>Resets</th>\n      <th>Warns</th>\n      <th>MetaSim</th>\n    </tr>\n  </thead>\n  <tbody>\n    <tr>\n      <th>18881</th>\n      <td>0.314516</td>\n      <td>0.0</td>\n      <td>0.0</td>\n      <td>0.0</td>\n      <td>0.80084</td>\n      <td>0.000000</td>\n      <td>0.0</td>\n      <td>0.0</td>\n      <td>0.0</td>\n      <td>5.00</td>\n      <td>...</td>\n      <td>0.428571</td>\n      <td>0.418516</td>\n      <td>0.617684</td>\n      <td>1.000000</td>\n      <td>0.43750</td>\n      <td>0.000000</td>\n      <td>0.0</td>\n      <td>0.00</td>\n      <td>1.00</td>\n      <td>0.004155</td>\n    </tr>\n    <tr>\n      <th>23107</th>\n      <td>1.000000</td>\n      <td>1.0</td>\n      <td>0.0</td>\n      <td>1.0</td>\n      <td>1.00000</td>\n      <td>0.230596</td>\n      <td>0.0</td>\n      <td>0.0</td>\n      <td>0.0</td>\n      <td>5.00</td>\n      <td>...</td>\n      <td>1.000000</td>\n      <td>1.000000</td>\n      <td>0.821526</td>\n      <td>0.341365</td>\n      <td>0.31250</td>\n      <td>0.000000</td>\n      <td>0.0</td>\n      <td>1.00</td>\n      <td>1.00</td>\n      <td>0.050855</td>\n    </tr>\n    <tr>\n      <th>23106</th>\n      <td>1.000000</td>\n      <td>1.0</td>\n      <td>0.0</td>\n      <td>1.0</td>\n      <td>1.00000</td>\n      <td>0.113611</td>\n      <td>0.0</td>\n      <td>0.0</td>\n      <td>0.0</td>\n      <td>3.75</td>\n      <td>...</td>\n      <td>0.857143</td>\n      <td>0.882938</td>\n      <td>0.691792</td>\n      <td>0.176707</td>\n      <td>0.40625</td>\n      <td>0.000000</td>\n      <td>0.0</td>\n      <td>1.00</td>\n      <td>1.00</td>\n      <td>0.060568</td>\n    </tr>\n    <tr>\n      <th>23105</th>\n      <td>1.000000</td>\n      <td>1.0</td>\n      <td>0.0</td>\n      <td>1.0</td>\n      <td>1.00000</td>\n      <td>0.021372</td>\n      <td>0.0</td>\n      <td>0.0</td>\n      <td>0.0</td>\n      <td>2.50</td>\n      <td>...</td>\n      <td>0.714286</td>\n      <td>0.749044</td>\n      <td>0.543396</td>\n      <td>0.975904</td>\n      <td>0.56250</td>\n      <td>0.000000</td>\n      <td>0.0</td>\n      <td>0.15</td>\n      <td>0.65</td>\n      <td>0.075923</td>\n    </tr>\n    <tr>\n      <th>23104</th>\n      <td>1.000000</td>\n      <td>1.0</td>\n      <td>0.0</td>\n      <td>1.0</td>\n      <td>1.00000</td>\n      <td>0.013498</td>\n      <td>0.0</td>\n      <td>0.0</td>\n      <td>0.0</td>\n      <td>1.25</td>\n      <td>...</td>\n      <td>0.285714</td>\n      <td>0.475899</td>\n      <td>0.240623</td>\n      <td>0.160643</td>\n      <td>0.93750</td>\n      <td>0.000000</td>\n      <td>0.0</td>\n      <td>0.15</td>\n      <td>0.00</td>\n      <td>0.100329</td>\n    </tr>\n    <tr>\n      <th>23103</th>\n      <td>1.000000</td>\n      <td>1.0</td>\n      <td>0.0</td>\n      <td>1.0</td>\n      <td>1.00000</td>\n      <td>0.000000</td>\n      <td>0.0</td>\n      <td>0.0</td>\n      <td>0.0</td>\n      <td>0.00</td>\n      <td>...</td>\n      <td>0.000000</td>\n      <td>0.312165</td>\n      <td>0.059250</td>\n      <td>0.000000</td>\n      <td>0.00000</td>\n      <td>0.000000</td>\n      <td>0.0</td>\n      <td>0.00</td>\n      <td>0.00</td>\n      <td>0.125587</td>\n    </tr>\n    <tr>\n      <th>9822</th>\n      <td>0.000000</td>\n      <td>1.0</td>\n      <td>1.0</td>\n      <td>1.0</td>\n      <td>0.00000</td>\n      <td>1.000000</td>\n      <td>0.0</td>\n      <td>1.0</td>\n      <td>0.0</td>\n      <td>5.00</td>\n      <td>...</td>\n      <td>0.857143</td>\n      <td>0.377200</td>\n      <td>1.000000</td>\n      <td>0.220884</td>\n      <td>0.31250</td>\n      <td>1.000000</td>\n      <td>1.0</td>\n      <td>0.90</td>\n      <td>1.00</td>\n      <td>0.176593</td>\n    </tr>\n    <tr>\n      <th>9821</th>\n      <td>0.000000</td>\n      <td>1.0</td>\n      <td>1.0</td>\n      <td>1.0</td>\n      <td>0.00000</td>\n      <td>0.865017</td>\n      <td>0.0</td>\n      <td>1.0</td>\n      <td>0.0</td>\n      <td>3.75</td>\n      <td>...</td>\n      <td>0.714286</td>\n      <td>0.221882</td>\n      <td>0.588150</td>\n      <td>0.273092</td>\n      <td>0.50000</td>\n      <td>0.666667</td>\n      <td>0.1</td>\n      <td>0.70</td>\n      <td>0.60</td>\n      <td>0.223817</td>\n    </tr>\n    <tr>\n      <th>9820</th>\n      <td>0.000000</td>\n      <td>1.0</td>\n      <td>1.0</td>\n      <td>1.0</td>\n      <td>0.00000</td>\n      <td>0.672666</td>\n      <td>0.0</td>\n      <td>1.0</td>\n      <td>0.0</td>\n      <td>2.50</td>\n      <td>...</td>\n      <td>0.571429</td>\n      <td>0.094874</td>\n      <td>0.251495</td>\n      <td>0.441767</td>\n      <td>0.68750</td>\n      <td>0.311239</td>\n      <td>0.0</td>\n      <td>0.60</td>\n      <td>0.00</td>\n      <td>0.287004</td>\n    </tr>\n    <tr>\n      <th>9819</th>\n      <td>0.000000</td>\n      <td>1.0</td>\n      <td>1.0</td>\n      <td>1.0</td>\n      <td>0.00000</td>\n      <td>0.290214</td>\n      <td>0.0</td>\n      <td>1.0</td>\n      <td>0.0</td>\n      <td>1.25</td>\n      <td>...</td>\n      <td>0.285714</td>\n      <td>0.065800</td>\n      <td>0.174488</td>\n      <td>0.682731</td>\n      <td>1.00000</td>\n      <td>0.231508</td>\n      <td>0.0</td>\n      <td>0.35</td>\n      <td>0.00</td>\n      <td>0.353744</td>\n    </tr>\n    <tr>\n      <th>9818</th>\n      <td>0.000000</td>\n      <td>1.0</td>\n      <td>1.0</td>\n      <td>1.0</td>\n      <td>0.00000</td>\n      <td>0.193476</td>\n      <td>0.0</td>\n      <td>1.0</td>\n      <td>0.0</td>\n      <td>0.00</td>\n      <td>...</td>\n      <td>0.000000</td>\n      <td>0.000000</td>\n      <td>0.000000</td>\n      <td>0.682731</td>\n      <td>0.15625</td>\n      <td>0.184438</td>\n      <td>0.0</td>\n      <td>0.60</td>\n      <td>0.00</td>\n      <td>0.418534</td>\n    </tr>\n  </tbody>\n</table>\n<p>11 rows × 23 columns</p>\n</div>"
     },
     "execution_count": 108,
     "metadata": {},
     "output_type": "execute_result"
    }
   ],
   "source": [
    "song_metadata['MetaSim'] = metadata_sims\n",
    "song_metadata.sort_values(by='MetaSim').tail(100)"
   ],
   "metadata": {
    "collapsed": false
   }
  }
 ],
 "metadata": {
  "kernelspec": {
   "display_name": "Python 3",
   "language": "python",
   "name": "python3"
  },
  "language_info": {
   "codemirror_mode": {
    "name": "ipython",
    "version": 2
   },
   "file_extension": ".py",
   "mimetype": "text/x-python",
   "name": "python",
   "nbconvert_exporter": "python",
   "pygments_lexer": "ipython2",
   "version": "2.7.6"
  }
 },
 "nbformat": 4,
 "nbformat_minor": 0
}
